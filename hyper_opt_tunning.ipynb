{
 "cells": [
  {
   "cell_type": "code",
   "execution_count": null,
   "metadata": {
    "Collapsed": "false"
   },
   "outputs": [],
   "source": [
    "import pandas as pd"
   ]
  },
  {
   "cell_type": "code",
   "execution_count": null,
   "metadata": {
    "Collapsed": "false"
   },
   "outputs": [],
   "source": [
    "import hyperopt as hp"
   ]
  },
  {
   "cell_type": "code",
   "execution_count": null,
   "metadata": {
    "Collapsed": "false"
   },
   "outputs": [],
   "source": [
    "import catboost as cb\n",
    "import numpy as np"
   ]
  },
  {
   "cell_type": "code",
   "execution_count": null,
   "metadata": {
    "Collapsed": "false"
   },
   "outputs": [],
   "source": [
    "from sklearn.metrics import f1_score"
   ]
  },
  {
   "cell_type": "code",
   "execution_count": null,
   "metadata": {
    "Collapsed": "false"
   },
   "outputs": [],
   "source": [
    "from sklearn.model_selection import train_test_split"
   ]
  },
  {
   "cell_type": "code",
   "execution_count": null,
   "metadata": {
    "Collapsed": "false"
   },
   "outputs": [],
   "source": [
    "train = pd.read_csv('datasets/train_sample.csv', encoding='utf8', index_col=0)"
   ]
  },
  {
   "cell_type": "code",
   "execution_count": null,
   "metadata": {
    "Collapsed": "false"
   },
   "outputs": [],
   "source": [
    "X_train, X_test, y_train, y_test = train_test_split(strat_train_set[cat_cols], strat_train_set.click, test_size=0.33, random_state=27)"
   ]
  },
  {
   "cell_type": "code",
   "execution_count": null,
   "metadata": {
    "Collapsed": "false"
   },
   "outputs": [],
   "source": [
    "train.head()"
   ]
  },
  {
   "cell_type": "code",
   "execution_count": null,
   "metadata": {
    "Collapsed": "false"
   },
   "outputs": [],
   "source": [
    "train.info()"
   ]
  },
  {
   "cell_type": "code",
   "execution_count": null,
   "metadata": {
    "Collapsed": "false"
   },
   "outputs": [],
   "source": [
    "cat_cols = ['C1', 'banner_pos', 'device_type', 'device_conn_type', 'C15', 'C16', 'C18', 'C20', 'C21']"
   ]
  },
  {
   "cell_type": "code",
   "execution_count": null,
   "metadata": {
    "Collapsed": "false"
   },
   "outputs": [],
   "source": [
    "dataset = cb.Pool(X_train, y_train, cat_features=cat_cols)"
   ]
  },
  {
   "cell_type": "code",
   "execution_count": null,
   "metadata": {
    "Collapsed": "false"
   },
   "outputs": [],
   "source": [
    "test_dataset = cb.Pool(X_test, y_test, cat_features=cat_cols)"
   ]
  },
  {
   "cell_type": "code",
   "execution_count": null,
   "metadata": {
    "Collapsed": "false"
   },
   "outputs": [],
   "source": [
    "cv_dataset = cb.Pool(data=X_train.head(100),\n",
    "                     label=y_train.head(100),\n",
    "                     cat_features=cat_cols)"
   ]
  },
  {
   "cell_type": "code",
   "execution_count": null,
   "metadata": {
    "Collapsed": "false"
   },
   "outputs": [],
   "source": [
    "cv_params = {\n",
    "    \"loss_function\": \"CrossEntropy\",\n",
    "    \"max_depth\": 3,\n",
    "    \"n_estimators\": 10,  #[0,1,2,3,4,5] -> [50,]\n",
    "    \"learning_rate\": 0.01,  #[0,1,2,3,4,5] -> 0.05,0.06\n",
    "}"
   ]
  },
  {
   "cell_type": "code",
   "execution_count": null,
   "metadata": {
    "Collapsed": "false"
   },
   "outputs": [],
   "source": [
    "def CatOptCV(params):\n",
    "    model = cb.cv(pool=cv_dataset,\n",
    "                  params=params,\n",
    "                  early_stopping_rounds=10,\n",
    "                  fold_count=5,\n",
    "                  plot=\"True\")\n",
    "    \n",
    "\n",
    "    return model"
   ]
  },
  {
   "cell_type": "code",
   "execution_count": null,
   "metadata": {
    "Collapsed": "false"
   },
   "outputs": [],
   "source": [
    "def CatOpt(params):\n",
    "    model = cb.CatBoostClassifier(loss_function='CrossEntropy',\n",
    "#                                   custom_metric='F1',\n",
    "#                                   eval_metric='F1',\n",
    "#                                   l2_leaf_reg=3,\n",
    "                                  early_stopping_rounds=10,\n",
    "                                  task_type=\"CPU\",\n",
    "                                  **params)\n",
    "    model.fit(X_train,\n",
    "              y_train,\n",
    "              cat_features=[0, 1, 2, 3, 4, 5, 6, 7, 8],\n",
    "              plot=\"True\")\n",
    "    \n",
    "    preds_class = model.predict(X_test)\n",
    "    return f1_score(y_test, preds_class, zero_division=1)"
   ]
  },
  {
   "cell_type": "code",
   "execution_count": null,
   "metadata": {
    "Collapsed": "false",
    "scrolled": true
   },
   "outputs": [],
   "source": [
    "%%time\n",
    "params = {\n",
    "    \"max_depth\": hp.hp.randint(\"max_depth\", 15),\n",
    "    \"n_estimators\": hp.hp.randint(\"n_estimators\", 1000),\n",
    "    \"learning_rate\": hp.hp.loguniform(\"learning_rate\", np.log(0.01), np.log(0.2)),\n",
    "}\n",
    "trials = hp.Trials()\n",
    "# algo = hp.partial(hp.tpe.suggest, n_startup_jobs=1)\n",
    "best = hp.fmin(CatOpt,\n",
    "               space=params,\n",
    "               algo=hp.tpe.suggest,\n",
    "               trials=trials,\n",
    "               max_evals=5)\n",
    "print('best:')\n",
    "best"
   ]
  },
  {
   "cell_type": "code",
   "execution_count": null,
   "metadata": {
    "Collapsed": "false"
   },
   "outputs": [],
   "source": [
    "def trainning(params):\n",
    "    model = cb.CatBoostClassifier(loss_function='CrossEntropy',\n",
    "                                  custom_metric='F1',\n",
    "                                  eval_metric='F1',\n",
    "                                  l2_leaf_reg=3,\n",
    "                                  early_stopping_rounds=10,\n",
    "                                  task_type=\"CPU\",\n",
    "                                  **params)\n",
    "    model.fit(X_train,\n",
    "              y_train,\n",
    "              cat_features=[0, 1, 2, 3, 4, 5, 6, 7, 8],\n",
    "              plot=\"True\")\n",
    "    return model"
   ]
  },
  {
   "cell_type": "code",
   "execution_count": null,
   "metadata": {
    "Collapsed": "false"
   },
   "outputs": [],
   "source": []
  }
 ],
 "metadata": {
  "kernelspec": {
   "display_name": "Python 3",
   "language": "python",
   "name": "python3"
  },
  "language_info": {
   "codemirror_mode": {
    "name": "ipython",
    "version": 3
   },
   "file_extension": ".py",
   "mimetype": "text/x-python",
   "name": "python",
   "nbconvert_exporter": "python",
   "pygments_lexer": "ipython3",
   "version": "3.7.6"
  },
  "toc-showcode": false,
  "toc-showtags": true
 },
 "nbformat": 4,
 "nbformat_minor": 4
}
