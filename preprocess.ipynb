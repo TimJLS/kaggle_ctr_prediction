{
 "cells": [
  {
   "cell_type": "code",
   "execution_count": 1,
   "metadata": {
    "Collapsed": "false"
   },
   "outputs": [],
   "source": [
    "import dask.dataframe as dd\n",
    "import pandas as pd\n",
    "import numpy as np\n",
    "import seaborn as sns\n",
    "import matplotlib.pyplot as plt\n",
    "sns.set(font_scale=2)"
   ]
  },
  {
   "cell_type": "code",
   "execution_count": 2,
   "metadata": {
    "Collapsed": "false"
   },
   "outputs": [],
   "source": [
    "train = pd.read_csv('datasets/train/train.csv', dtype={'id': 'int'})"
   ]
  },
  {
   "cell_type": "code",
   "execution_count": null,
   "metadata": {
    "Collapsed": "false"
   },
   "outputs": [],
   "source": [
    "train.head()"
   ]
  },
  {
   "cell_type": "code",
   "execution_count": null,
   "metadata": {
    "Collapsed": "false"
   },
   "outputs": [],
   "source": [
    "train.columns"
   ]
  },
  {
   "cell_type": "markdown",
   "metadata": {
    "Collapsed": "false",
    "toc-hr-collapsed": false
   },
   "source": [
    "# 特徵分布"
   ]
  },
  {
   "cell_type": "code",
   "execution_count": null,
   "metadata": {
    "Collapsed": "false"
   },
   "outputs": [],
   "source": [
    "plt.title('click distribution')\n",
    "sns.countplot(train.click)"
   ]
  },
  {
   "cell_type": "code",
   "execution_count": null,
   "metadata": {
    "Collapsed": "false"
   },
   "outputs": [],
   "source": [
    "train.click.value_counts()"
   ]
  },
  {
   "cell_type": "markdown",
   "metadata": {
    "Collapsed": "false"
   },
   "source": [
    "## 網站類(site_id, site_domain, site_category)"
   ]
  },
  {
   "cell_type": "code",
   "execution_count": null,
   "metadata": {
    "Collapsed": "false"
   },
   "outputs": [],
   "source": [
    "train.site_id.nunique()"
   ]
  },
  {
   "cell_type": "code",
   "execution_count": null,
   "metadata": {
    "Collapsed": "false"
   },
   "outputs": [],
   "source": [
    "train.groupby(['site_id', 'click']).size().to_frame()"
   ]
  },
  {
   "cell_type": "code",
   "execution_count": null,
   "metadata": {
    "Collapsed": "false"
   },
   "outputs": [],
   "source": [
    "train.site_domain.nunique()"
   ]
  },
  {
   "cell_type": "code",
   "execution_count": null,
   "metadata": {
    "Collapsed": "false"
   },
   "outputs": [],
   "source": [
    "train.groupby(['site_domain', 'click']).size().to_frame()"
   ]
  },
  {
   "cell_type": "code",
   "execution_count": null,
   "metadata": {
    "Collapsed": "false"
   },
   "outputs": [],
   "source": [
    "train.site_category.nunique()"
   ]
  },
  {
   "cell_type": "code",
   "execution_count": null,
   "metadata": {
    "Collapsed": "false"
   },
   "outputs": [],
   "source": [
    "plt.figure(figsize=(20, 5))\n",
    "plt.subplot(1, 2, 1)\n",
    "plt.title('site_category category distribution')\n",
    "sns.countplot(train.site_category)\n",
    "\n",
    "plt.subplot(1, 2, 2)\n",
    "plt.title('site_category category & click distribution')\n",
    "sns.countplot(x='site_category', hue='click', data=train)"
   ]
  },
  {
   "cell_type": "code",
   "execution_count": null,
   "metadata": {
    "Collapsed": "false"
   },
   "outputs": [],
   "source": [
    "train.groupby(['site_category']).size().to_frame('size').sort_values(by=['size'], ascending=False) # 前四類廣告數量最多"
   ]
  },
  {
   "cell_type": "code",
   "execution_count": null,
   "metadata": {
    "Collapsed": "false"
   },
   "outputs": [],
   "source": [
    "train.site_id.value_counts().to_frame()"
   ]
  },
  {
   "cell_type": "code",
   "execution_count": null,
   "metadata": {
    "Collapsed": "false"
   },
   "outputs": [],
   "source": [
    "train.site_id.value_counts().value_counts().to_frame().sort_index() # site_id 出現次數統計"
   ]
  },
  {
   "cell_type": "code",
   "execution_count": null,
   "metadata": {
    "Collapsed": "false"
   },
   "outputs": [],
   "source": [
    "train.site_domain.value_counts() # c4e18dd6 最多"
   ]
  },
  {
   "cell_type": "code",
   "execution_count": null,
   "metadata": {
    "Collapsed": "false"
   },
   "outputs": [],
   "source": [
    "train.site_domain.value_counts().value_counts().to_frame().sort_index() # site_domain 出現次數統計"
   ]
  },
  {
   "cell_type": "code",
   "execution_count": null,
   "metadata": {
    "Collapsed": "false"
   },
   "outputs": [],
   "source": [
    "train.site_category.value_counts()"
   ]
  },
  {
   "cell_type": "code",
   "execution_count": null,
   "metadata": {
    "Collapsed": "false"
   },
   "outputs": [],
   "source": [
    "train.site_category.value_counts().value_counts().to_frame().sort_index() # site_category 出現次數統計"
   ]
  },
  {
   "cell_type": "markdown",
   "metadata": {
    "Collapsed": "false"
   },
   "source": [
    "## 應用程式類(app_id, app_domain, app_category)"
   ]
  },
  {
   "cell_type": "code",
   "execution_count": null,
   "metadata": {
    "Collapsed": "false"
   },
   "outputs": [],
   "source": [
    "train.app_id.nunique()"
   ]
  },
  {
   "cell_type": "code",
   "execution_count": null,
   "metadata": {
    "Collapsed": "false"
   },
   "outputs": [],
   "source": [
    "train.groupby(['app_id', 'click']).size().to_frame()"
   ]
  },
  {
   "cell_type": "code",
   "execution_count": null,
   "metadata": {
    "Collapsed": "false"
   },
   "outputs": [],
   "source": [
    "train.app_id.value_counts().value_counts().to_frame().sort_index()# app_id 出現次數統計"
   ]
  },
  {
   "cell_type": "code",
   "execution_count": null,
   "metadata": {
    "Collapsed": "false"
   },
   "outputs": [],
   "source": [
    "train.app_domain.nunique()"
   ]
  },
  {
   "cell_type": "code",
   "execution_count": null,
   "metadata": {
    "Collapsed": "false"
   },
   "outputs": [],
   "source": [
    "train.app_domain.value_counts().value_counts().to_frame().sort_index() # app_domain 出現次數統計"
   ]
  },
  {
   "cell_type": "code",
   "execution_count": null,
   "metadata": {
    "Collapsed": "false"
   },
   "outputs": [],
   "source": [
    "train.groupby(['app_domain', 'click']).size().to_frame()"
   ]
  },
  {
   "cell_type": "code",
   "execution_count": null,
   "metadata": {
    "Collapsed": "false"
   },
   "outputs": [],
   "source": [
    "train.app_category.nunique()"
   ]
  },
  {
   "cell_type": "code",
   "execution_count": null,
   "metadata": {
    "Collapsed": "false"
   },
   "outputs": [],
   "source": [
    "train.app_category.value_counts().value_counts().to_frame().sort_index() # app_category 出現次數統計"
   ]
  },
  {
   "cell_type": "code",
   "execution_count": null,
   "metadata": {
    "Collapsed": "false"
   },
   "outputs": [],
   "source": [
    "plt.figure(figsize=(20, 5))\n",
    "plt.subplot(1, 2, 1)\n",
    "plt.title('app_category category distribution')\n",
    "sns.countplot(train.app_category)\n",
    "\n",
    "plt.subplot(1, 2, 2)\n",
    "plt.title('app_category category & click distribution')\n",
    "sns.countplot(x='app_category', hue='click', data=train)"
   ]
  },
  {
   "cell_type": "code",
   "execution_count": null,
   "metadata": {
    "Collapsed": "false"
   },
   "outputs": [],
   "source": [
    "train.app_id.value_counts() # ecad2386"
   ]
  },
  {
   "cell_type": "code",
   "execution_count": null,
   "metadata": {
    "Collapsed": "false"
   },
   "outputs": [],
   "source": [
    "train.app_domain.value_counts() # 7801e8d9"
   ]
  },
  {
   "cell_type": "code",
   "execution_count": null,
   "metadata": {
    "Collapsed": "false"
   },
   "outputs": [],
   "source": [
    "train.app_category.value_counts() # 07d7df22"
   ]
  },
  {
   "cell_type": "markdown",
   "metadata": {
    "Collapsed": "false"
   },
   "source": [
    "## 裝置類(device_id, device_ip, device_model, device_type, device_conn_type)"
   ]
  },
  {
   "cell_type": "code",
   "execution_count": null,
   "metadata": {
    "Collapsed": "false"
   },
   "outputs": [],
   "source": [
    "train.device_id.nunique()"
   ]
  },
  {
   "cell_type": "code",
   "execution_count": null,
   "metadata": {
    "Collapsed": "false"
   },
   "outputs": [],
   "source": [
    "train.device_ip.nunique()"
   ]
  },
  {
   "cell_type": "code",
   "execution_count": null,
   "metadata": {
    "Collapsed": "false"
   },
   "outputs": [],
   "source": [
    "train.device_model.nunique()"
   ]
  },
  {
   "cell_type": "code",
   "execution_count": null,
   "metadata": {
    "Collapsed": "false"
   },
   "outputs": [],
   "source": [
    "train.groupby(['device_model', 'click']).size().to_frame()"
   ]
  },
  {
   "cell_type": "code",
   "execution_count": null,
   "metadata": {
    "Collapsed": "false"
   },
   "outputs": [],
   "source": [
    "plt.figure(figsize=(20, 5))\n",
    "plt.subplot(1, 2, 1)\n",
    "plt.title('device_type category distribution')\n",
    "sns.countplot(train.device_type)\n",
    "\n",
    "plt.subplot(1, 2, 2)\n",
    "plt.title('device_type category & click distribution')\n",
    "sns.countplot(x='device_type', hue='click', data=train)"
   ]
  },
  {
   "cell_type": "code",
   "execution_count": null,
   "metadata": {
    "Collapsed": "false"
   },
   "outputs": [],
   "source": [
    "plt.figure(figsize=(20, 5))\n",
    "plt.subplot(1, 2, 1)\n",
    "plt.title('device_conn_type category distribution')\n",
    "sns.countplot(train.device_conn_type)\n",
    "\n",
    "plt.subplot(1, 2, 2)\n",
    "plt.title('device_conn_type category & click distribution')\n",
    "sns.countplot(x='device_conn_type', hue='click', data=train)"
   ]
  },
  {
   "cell_type": "code",
   "execution_count": null,
   "metadata": {
    "Collapsed": "false"
   },
   "outputs": [],
   "source": [
    "train.device_id.value_counts().to_frame() # a99f214a 極度的多，可轉二元分類"
   ]
  },
  {
   "cell_type": "markdown",
   "metadata": {
    "Collapsed": "false"
   },
   "source": [
    "## 特別注意低頻率特別的多，需要另外處理特徵"
   ]
  },
  {
   "cell_type": "code",
   "execution_count": null,
   "metadata": {
    "Collapsed": "false"
   },
   "outputs": [],
   "source": [
    "train.device_ip.value_counts()"
   ]
  },
  {
   "cell_type": "markdown",
   "metadata": {
    "Collapsed": "false"
   },
   "source": [
    "## 特別注意低頻率特別的多，需要另外處理特徵，以頻率之平均數當二元分類的切點"
   ]
  },
  {
   "cell_type": "code",
   "execution_count": null,
   "metadata": {
    "Collapsed": "false"
   },
   "outputs": [],
   "source": [
    "train.device_ip.value_counts().value_counts().to_frame().sort_index().mean() # device_ip 出現次數統計"
   ]
  },
  {
   "cell_type": "code",
   "execution_count": null,
   "metadata": {
    "Collapsed": "false"
   },
   "outputs": [],
   "source": [
    "train.device_model.value_counts()"
   ]
  },
  {
   "cell_type": "code",
   "execution_count": null,
   "metadata": {
    "Collapsed": "false"
   },
   "outputs": [],
   "source": [
    "train.device_type.value_counts()"
   ]
  },
  {
   "cell_type": "code",
   "execution_count": null,
   "metadata": {
    "Collapsed": "false"
   },
   "outputs": [],
   "source": [
    "train.device_type.value_counts().value_counts().to_frame().sort_index() # device_id 出現次數統計"
   ]
  },
  {
   "cell_type": "code",
   "execution_count": null,
   "metadata": {
    "Collapsed": "false"
   },
   "outputs": [],
   "source": [
    "train.device_conn_type.value_counts()"
   ]
  },
  {
   "cell_type": "code",
   "execution_count": null,
   "metadata": {
    "Collapsed": "false"
   },
   "outputs": [],
   "source": [
    "train.device_conn_type.value_counts().value_counts().to_frame().sort_index() # device_id 出現次數統計"
   ]
  },
  {
   "cell_type": "markdown",
   "metadata": {
    "Collapsed": "false"
   },
   "source": [
    "# 廣告版位分類"
   ]
  },
  {
   "cell_type": "code",
   "execution_count": null,
   "metadata": {
    "Collapsed": "false"
   },
   "outputs": [],
   "source": [
    "plt.figure(figsize=(20, 5))\n",
    "plt.subplot(1, 2, 1)\n",
    "plt.title('banner_pos category distribution')\n",
    "sns.countplot(train.banner_pos)\n",
    "\n",
    "plt.subplot(1, 2, 2)\n",
    "plt.title('banner_pos category & click distribution')\n",
    "sns.countplot(x='banner_pos', hue='click', data=train)"
   ]
  },
  {
   "cell_type": "code",
   "execution_count": null,
   "metadata": {
    "Collapsed": "false"
   },
   "outputs": [],
   "source": [
    "train.banner_pos.value_counts() # 0, 1極度的多，可轉分三類"
   ]
  },
  {
   "cell_type": "code",
   "execution_count": null,
   "metadata": {
    "Collapsed": "false"
   },
   "outputs": [],
   "source": [
    "train.columns"
   ]
  },
  {
   "cell_type": "code",
   "execution_count": null,
   "metadata": {
    "Collapsed": "false"
   },
   "outputs": [],
   "source": [
    "train.C1.nunique(), train.C14.nunique(), train.C15.nunique(), train.C16.nunique(), train.C17.nunique(), train.C18.nunique(), train.C19.nunique(), train.C20.nunique(), train.C21.nunique()"
   ]
  },
  {
   "cell_type": "code",
   "execution_count": null,
   "metadata": {
    "Collapsed": "false"
   },
   "outputs": [],
   "source": [
    "from sklearn.preprocessing import LabelEncoder"
   ]
  },
  {
   "cell_type": "code",
   "execution_count": null,
   "metadata": {
    "Collapsed": "false"
   },
   "outputs": [],
   "source": [
    "train_copy = train.copy()\n",
    "train_copy = train_copy.apply(pd.to_numeric, errors='ignore')"
   ]
  },
  {
   "cell_type": "code",
   "execution_count": null,
   "metadata": {
    "Collapsed": "false"
   },
   "outputs": [],
   "source": [
    "for col in ['C1', 'banner_pos', 'site_id', 'site_domain',\n",
    "       'site_category', 'app_id', 'app_domain', 'app_category', 'device_id',\n",
    "       'device_ip', 'device_model', 'device_type', 'device_conn_type', 'C14',\n",
    "       'C15', 'C16', 'C17', 'C18', 'C19', 'C20', 'C21']:\n",
    "    enc = LabelEncoder()\n",
    "    train_copy[col] = enc.fit_transform(train_copy[col])"
   ]
  },
  {
   "cell_type": "code",
   "execution_count": null,
   "metadata": {
    "Collapsed": "false"
   },
   "outputs": [],
   "source": [
    "train_copy.head()"
   ]
  },
  {
   "cell_type": "markdown",
   "metadata": {
    "Collapsed": "false"
   },
   "source": [
    "# Heat Map\n",
    "### 1. C1, device_type 相關性高\n",
    "### 2. C14, C17 相關性高\n",
    "### 3. C16 與click 相關係數最高"
   ]
  },
  {
   "cell_type": "code",
   "execution_count": null,
   "metadata": {
    "Collapsed": "false"
   },
   "outputs": [],
   "source": [
    "sns.set(font_scale=1)\n",
    "plt.figure(figsize=(20, 18))\n",
    "sns.heatmap(train_copy.corr().abs(), annot=True)"
   ]
  },
  {
   "cell_type": "markdown",
   "metadata": {
    "Collapsed": "false",
    "toc-hr-collapsed": true
   },
   "source": [
    "# 分層取樣"
   ]
  },
  {
   "cell_type": "code",
   "execution_count": 10,
   "metadata": {
    "Collapsed": "false"
   },
   "outputs": [],
   "source": [
    "from sklearn.model_selection import StratifiedShuffleSplit\n",
    "\n",
    "split = StratifiedShuffleSplit(n_splits=1, train_size=0.05, random_state=27)\n",
    "for train_index, test_index in split.split(train, train[\"click\"]):\n",
    "    strat_train_set = train.loc[train_index]\n",
    "    strat_train_set.to_csv(\"datasets/train_sampled.csv\", header = True, encoding='utf8', index=False)\n",
    "    break"
   ]
  },
  {
   "cell_type": "code",
   "execution_count": null,
   "metadata": {
    "Collapsed": "false"
   },
   "outputs": [],
   "source": [
    "train_sampled = pd.read_csv(\"datasets/train_sampled.csv\", encoding='utf8')"
   ]
  },
  {
   "cell_type": "markdown",
   "metadata": {
    "Collapsed": "false"
   },
   "source": [
    "### 新增特徵"
   ]
  },
  {
   "cell_type": "code",
   "execution_count": 3,
   "metadata": {
    "Collapsed": "false"
   },
   "outputs": [],
   "source": [
    "frequency = train.site_id.value_counts().value_counts().to_frame().sort_index()\n",
    "\n",
    "boundary = frequency.site_id.mean()\n",
    "\n",
    "upper_count = frequency['site_id'][frequency.site_id > boundary].values\n",
    "count = train.site_id.value_counts().to_frame()\n",
    "\n",
    "train['site_id_binary'] = 0\n",
    "train[train.site_id.isin(count[count.site_id.isin(upper_count)].index)] = 1"
   ]
  },
  {
   "cell_type": "code",
   "execution_count": 4,
   "metadata": {
    "Collapsed": "false"
   },
   "outputs": [],
   "source": [
    "frequency = train.site_domain.value_counts().value_counts().to_frame().sort_index()\n",
    "\n",
    "boundary = frequency.site_domain.mean()\n",
    "\n",
    "upper_count = frequency['site_domain'][frequency.site_domain > boundary].values\n",
    "count = train.site_domain.value_counts().to_frame()\n",
    "\n",
    "train['site_domain_binary'] = 0\n",
    "train[train.site_domain.isin(count[count.site_domain.isin(upper_count)].index)] = 1"
   ]
  },
  {
   "cell_type": "code",
   "execution_count": 5,
   "metadata": {
    "Collapsed": "false"
   },
   "outputs": [],
   "source": [
    "frequency = train.app_id.value_counts().value_counts().to_frame().sort_index()\n",
    "\n",
    "boundary = frequency.app_id.mean()\n",
    "\n",
    "upper_count = frequency['app_id'][frequency.app_id > boundary].values\n",
    "count = train.app_id.value_counts().to_frame()\n",
    "\n",
    "train['app_id_binary'] = 0\n",
    "train[train.app_id.isin(count[count.app_id.isin(upper_count)].index)] = 1"
   ]
  },
  {
   "cell_type": "code",
   "execution_count": 6,
   "metadata": {
    "Collapsed": "false"
   },
   "outputs": [],
   "source": [
    "frequency = train.device_id.value_counts().value_counts().to_frame().sort_index()\n",
    "\n",
    "boundary = frequency.device_id.mean()\n",
    "\n",
    "upper_count = frequency['device_id'][frequency.device_id > boundary].values\n",
    "count = train.device_id.value_counts().to_frame()\n",
    "\n",
    "train['device_id_binary'] = 0\n",
    "train[train.device_id.isin(count[count.device_id.isin(upper_count)].index)] = 1"
   ]
  },
  {
   "cell_type": "code",
   "execution_count": 7,
   "metadata": {
    "Collapsed": "false"
   },
   "outputs": [],
   "source": [
    "frequency = train.device_ip.value_counts().value_counts().to_frame().sort_index()\n",
    "\n",
    "boundary = frequency.device_ip.mean()\n",
    "\n",
    "upper_count = frequency['device_ip'][frequency.device_ip > boundary].values\n",
    "count = train.device_ip.value_counts().to_frame()\n",
    "\n",
    "train['device_ip_binary'] = 0\n",
    "train[train.device_ip.isin(count[count.device_ip.isin(upper_count)].index)] = 1"
   ]
  },
  {
   "cell_type": "code",
   "execution_count": 8,
   "metadata": {
    "Collapsed": "false"
   },
   "outputs": [],
   "source": [
    "frequency = train.device_model.value_counts().value_counts().to_frame().sort_index()\n",
    "\n",
    "boundary = frequency.device_model.mean()\n",
    "\n",
    "upper_count = frequency['device_model'][frequency.device_model > boundary].values\n",
    "count = train.device_model.value_counts().to_frame()\n",
    "\n",
    "train['device_model_binary'] = 0\n",
    "train[train.device_model.isin(count[count.device_model.isin(upper_count)].index)] = 1"
   ]
  },
  {
   "cell_type": "code",
   "execution_count": null,
   "metadata": {
    "Collapsed": "false"
   },
   "outputs": [],
   "source": [
    "train.head()"
   ]
  },
  {
   "cell_type": "code",
   "execution_count": null,
   "metadata": {
    "Collapsed": "false"
   },
   "outputs": [],
   "source": [
    "train.to_csv(\"datasets/train_processed.csv\", header = True, encoding='utf8', index=False)"
   ]
  },
  {
   "cell_type": "code",
   "execution_count": null,
   "metadata": {
    "Collapsed": "false"
   },
   "outputs": [],
   "source": []
  }
 ],
 "metadata": {
  "kernelspec": {
   "display_name": "Python 3",
   "language": "python",
   "name": "python3"
  },
  "language_info": {
   "codemirror_mode": {
    "name": "ipython",
    "version": 3
   },
   "file_extension": ".py",
   "mimetype": "text/x-python",
   "name": "python",
   "nbconvert_exporter": "python",
   "pygments_lexer": "ipython3",
   "version": "3.7.6"
  },
  "toc-autonumbering": false,
  "toc-showcode": false,
  "toc-showmarkdowntxt": false,
  "toc-showtags": false
 },
 "nbformat": 4,
 "nbformat_minor": 4
}
