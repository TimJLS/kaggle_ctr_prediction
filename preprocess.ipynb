{
 "cells": [
  {
   "cell_type": "code",
   "execution_count": 3,
   "metadata": {},
   "outputs": [],
   "source": [
    "import pandas as pd\n",
    "import numpy as np\n",
    "import seaborn as sns\n",
    "sns.set()"
   ]
  },
  {
   "cell_type": "code",
   "execution_count": 4,
   "metadata": {},
   "outputs": [
    {
     "data": {
      "text/html": [
       "<div>\n",
       "<style scoped>\n",
       "    .dataframe tbody tr th:only-of-type {\n",
       "        vertical-align: middle;\n",
       "    }\n",
       "\n",
       "    .dataframe tbody tr th {\n",
       "        vertical-align: top;\n",
       "    }\n",
       "\n",
       "    .dataframe thead th {\n",
       "        text-align: right;\n",
       "    }\n",
       "</style>\n",
       "<table border=\"1\" class=\"dataframe\">\n",
       "  <thead>\n",
       "    <tr style=\"text-align: right;\">\n",
       "      <th></th>\n",
       "      <th>id</th>\n",
       "      <th>click</th>\n",
       "      <th>hour</th>\n",
       "      <th>C1</th>\n",
       "      <th>banner_pos</th>\n",
       "      <th>site_id</th>\n",
       "      <th>site_domain</th>\n",
       "      <th>site_category</th>\n",
       "      <th>app_id</th>\n",
       "      <th>app_domain</th>\n",
       "      <th>...</th>\n",
       "      <th>device_type</th>\n",
       "      <th>device_conn_type</th>\n",
       "      <th>C14</th>\n",
       "      <th>C15</th>\n",
       "      <th>C16</th>\n",
       "      <th>C17</th>\n",
       "      <th>C18</th>\n",
       "      <th>C19</th>\n",
       "      <th>C20</th>\n",
       "      <th>C21</th>\n",
       "    </tr>\n",
       "  </thead>\n",
       "  <tbody>\n",
       "    <tr>\n",
       "      <th>0</th>\n",
       "      <td>1.000009e+18</td>\n",
       "      <td>0</td>\n",
       "      <td>14102100</td>\n",
       "      <td>1005</td>\n",
       "      <td>0</td>\n",
       "      <td>1fbe01fe</td>\n",
       "      <td>f3845767</td>\n",
       "      <td>28905ebd</td>\n",
       "      <td>ecad2386</td>\n",
       "      <td>7801e8d9</td>\n",
       "      <td>...</td>\n",
       "      <td>1</td>\n",
       "      <td>2</td>\n",
       "      <td>15706</td>\n",
       "      <td>320</td>\n",
       "      <td>50</td>\n",
       "      <td>1722</td>\n",
       "      <td>0</td>\n",
       "      <td>35</td>\n",
       "      <td>-1</td>\n",
       "      <td>79</td>\n",
       "    </tr>\n",
       "    <tr>\n",
       "      <th>1</th>\n",
       "      <td>1.000017e+19</td>\n",
       "      <td>0</td>\n",
       "      <td>14102100</td>\n",
       "      <td>1005</td>\n",
       "      <td>0</td>\n",
       "      <td>1fbe01fe</td>\n",
       "      <td>f3845767</td>\n",
       "      <td>28905ebd</td>\n",
       "      <td>ecad2386</td>\n",
       "      <td>7801e8d9</td>\n",
       "      <td>...</td>\n",
       "      <td>1</td>\n",
       "      <td>0</td>\n",
       "      <td>15704</td>\n",
       "      <td>320</td>\n",
       "      <td>50</td>\n",
       "      <td>1722</td>\n",
       "      <td>0</td>\n",
       "      <td>35</td>\n",
       "      <td>100084</td>\n",
       "      <td>79</td>\n",
       "    </tr>\n",
       "    <tr>\n",
       "      <th>2</th>\n",
       "      <td>1.000037e+19</td>\n",
       "      <td>0</td>\n",
       "      <td>14102100</td>\n",
       "      <td>1005</td>\n",
       "      <td>0</td>\n",
       "      <td>1fbe01fe</td>\n",
       "      <td>f3845767</td>\n",
       "      <td>28905ebd</td>\n",
       "      <td>ecad2386</td>\n",
       "      <td>7801e8d9</td>\n",
       "      <td>...</td>\n",
       "      <td>1</td>\n",
       "      <td>0</td>\n",
       "      <td>15704</td>\n",
       "      <td>320</td>\n",
       "      <td>50</td>\n",
       "      <td>1722</td>\n",
       "      <td>0</td>\n",
       "      <td>35</td>\n",
       "      <td>100084</td>\n",
       "      <td>79</td>\n",
       "    </tr>\n",
       "    <tr>\n",
       "      <th>3</th>\n",
       "      <td>1.000064e+19</td>\n",
       "      <td>0</td>\n",
       "      <td>14102100</td>\n",
       "      <td>1005</td>\n",
       "      <td>0</td>\n",
       "      <td>1fbe01fe</td>\n",
       "      <td>f3845767</td>\n",
       "      <td>28905ebd</td>\n",
       "      <td>ecad2386</td>\n",
       "      <td>7801e8d9</td>\n",
       "      <td>...</td>\n",
       "      <td>1</td>\n",
       "      <td>0</td>\n",
       "      <td>15706</td>\n",
       "      <td>320</td>\n",
       "      <td>50</td>\n",
       "      <td>1722</td>\n",
       "      <td>0</td>\n",
       "      <td>35</td>\n",
       "      <td>100084</td>\n",
       "      <td>79</td>\n",
       "    </tr>\n",
       "    <tr>\n",
       "      <th>4</th>\n",
       "      <td>1.000068e+19</td>\n",
       "      <td>0</td>\n",
       "      <td>14102100</td>\n",
       "      <td>1005</td>\n",
       "      <td>1</td>\n",
       "      <td>fe8cc448</td>\n",
       "      <td>9166c161</td>\n",
       "      <td>0569f928</td>\n",
       "      <td>ecad2386</td>\n",
       "      <td>7801e8d9</td>\n",
       "      <td>...</td>\n",
       "      <td>1</td>\n",
       "      <td>0</td>\n",
       "      <td>18993</td>\n",
       "      <td>320</td>\n",
       "      <td>50</td>\n",
       "      <td>2161</td>\n",
       "      <td>0</td>\n",
       "      <td>35</td>\n",
       "      <td>-1</td>\n",
       "      <td>157</td>\n",
       "    </tr>\n",
       "  </tbody>\n",
       "</table>\n",
       "<p>5 rows × 24 columns</p>\n",
       "</div>"
      ],
      "text/plain": [
       "             id  click      hour    C1  banner_pos   site_id site_domain  \\\n",
       "0  1.000009e+18      0  14102100  1005           0  1fbe01fe    f3845767   \n",
       "1  1.000017e+19      0  14102100  1005           0  1fbe01fe    f3845767   \n",
       "2  1.000037e+19      0  14102100  1005           0  1fbe01fe    f3845767   \n",
       "3  1.000064e+19      0  14102100  1005           0  1fbe01fe    f3845767   \n",
       "4  1.000068e+19      0  14102100  1005           1  fe8cc448    9166c161   \n",
       "\n",
       "  site_category    app_id app_domain  ... device_type device_conn_type    C14  \\\n",
       "0      28905ebd  ecad2386   7801e8d9  ...           1                2  15706   \n",
       "1      28905ebd  ecad2386   7801e8d9  ...           1                0  15704   \n",
       "2      28905ebd  ecad2386   7801e8d9  ...           1                0  15704   \n",
       "3      28905ebd  ecad2386   7801e8d9  ...           1                0  15706   \n",
       "4      0569f928  ecad2386   7801e8d9  ...           1                0  18993   \n",
       "\n",
       "   C15  C16   C17  C18  C19     C20  C21  \n",
       "0  320   50  1722    0   35      -1   79  \n",
       "1  320   50  1722    0   35  100084   79  \n",
       "2  320   50  1722    0   35  100084   79  \n",
       "3  320   50  1722    0   35  100084   79  \n",
       "4  320   50  2161    0   35      -1  157  \n",
       "\n",
       "[5 rows x 24 columns]"
      ]
     },
     "execution_count": 4,
     "metadata": {},
     "output_type": "execute_result"
    }
   ],
   "source": [
    "train = pd.read_csv('datasets/train/train.csv', encoding='utf8')\n",
    "train.head()"
   ]
  },
  {
   "cell_type": "code",
   "execution_count": 5,
   "metadata": {},
   "outputs": [
    {
     "data": {
      "text/plain": [
       "Index(['id', 'click', 'hour', 'C1', 'banner_pos', 'site_id', 'site_domain',\n",
       "       'site_category', 'app_id', 'app_domain', 'app_category', 'device_id',\n",
       "       'device_ip', 'device_model', 'device_type', 'device_conn_type', 'C14',\n",
       "       'C15', 'C16', 'C17', 'C18', 'C19', 'C20', 'C21'],\n",
       "      dtype='object')"
      ]
     },
     "execution_count": 5,
     "metadata": {},
     "output_type": "execute_result"
    }
   ],
   "source": [
    "train.columns"
   ]
  },
  {
   "cell_type": "code",
   "execution_count": 6,
   "metadata": {},
   "outputs": [
    {
     "name": "stdout",
     "output_type": "stream",
     "text": [
      "<class 'pandas.core.frame.DataFrame'>\n",
      "RangeIndex: 40428967 entries, 0 to 40428966\n",
      "Data columns (total 24 columns):\n",
      " #   Column            Dtype  \n",
      "---  ------            -----  \n",
      " 0   id                float64\n",
      " 1   click             int64  \n",
      " 2   hour              int64  \n",
      " 3   C1                int64  \n",
      " 4   banner_pos        int64  \n",
      " 5   site_id           object \n",
      " 6   site_domain       object \n",
      " 7   site_category     object \n",
      " 8   app_id            object \n",
      " 9   app_domain        object \n",
      " 10  app_category      object \n",
      " 11  device_id         object \n",
      " 12  device_ip         object \n",
      " 13  device_model      object \n",
      " 14  device_type       int64  \n",
      " 15  device_conn_type  int64  \n",
      " 16  C14               int64  \n",
      " 17  C15               int64  \n",
      " 18  C16               int64  \n",
      " 19  C17               int64  \n",
      " 20  C18               int64  \n",
      " 21  C19               int64  \n",
      " 22  C20               int64  \n",
      " 23  C21               int64  \n",
      "dtypes: float64(1), int64(14), object(9)\n",
      "memory usage: 7.2+ GB\n"
     ]
    }
   ],
   "source": [
    "train.info()"
   ]
  },
  {
   "cell_type": "code",
   "execution_count": 7,
   "metadata": {},
   "outputs": [
    {
     "data": {
      "text/plain": [
       "id                  False\n",
       "click               False\n",
       "hour                False\n",
       "C1                  False\n",
       "banner_pos          False\n",
       "site_id             False\n",
       "site_domain         False\n",
       "site_category       False\n",
       "app_id              False\n",
       "app_domain          False\n",
       "app_category        False\n",
       "device_id           False\n",
       "device_ip           False\n",
       "device_model        False\n",
       "device_type         False\n",
       "device_conn_type    False\n",
       "C14                 False\n",
       "C15                 False\n",
       "C16                 False\n",
       "C17                 False\n",
       "C18                 False\n",
       "C19                 False\n",
       "C20                 False\n",
       "C21                 False\n",
       "dtype: bool"
      ]
     },
     "execution_count": 7,
     "metadata": {},
     "output_type": "execute_result"
    }
   ],
   "source": [
    "train.isnull().any()"
   ]
  },
  {
   "cell_type": "code",
   "execution_count": 8,
   "metadata": {},
   "outputs": [
    {
     "data": {
      "text/html": [
       "<div>\n",
       "<style scoped>\n",
       "    .dataframe tbody tr th:only-of-type {\n",
       "        vertical-align: middle;\n",
       "    }\n",
       "\n",
       "    .dataframe tbody tr th {\n",
       "        vertical-align: top;\n",
       "    }\n",
       "\n",
       "    .dataframe thead th {\n",
       "        text-align: right;\n",
       "    }\n",
       "</style>\n",
       "<table border=\"1\" class=\"dataframe\">\n",
       "  <thead>\n",
       "    <tr style=\"text-align: right;\">\n",
       "      <th></th>\n",
       "      <th>id</th>\n",
       "      <th>click</th>\n",
       "      <th>hour</th>\n",
       "      <th>C1</th>\n",
       "      <th>banner_pos</th>\n",
       "      <th>device_type</th>\n",
       "      <th>device_conn_type</th>\n",
       "      <th>C14</th>\n",
       "      <th>C15</th>\n",
       "      <th>C16</th>\n",
       "      <th>C17</th>\n",
       "      <th>C18</th>\n",
       "      <th>C19</th>\n",
       "      <th>C20</th>\n",
       "      <th>C21</th>\n",
       "    </tr>\n",
       "  </thead>\n",
       "  <tbody>\n",
       "    <tr>\n",
       "      <th>count</th>\n",
       "      <td>4.042897e+07</td>\n",
       "      <td>4.042897e+07</td>\n",
       "      <td>4.042897e+07</td>\n",
       "      <td>4.042897e+07</td>\n",
       "      <td>4.042897e+07</td>\n",
       "      <td>4.042897e+07</td>\n",
       "      <td>4.042897e+07</td>\n",
       "      <td>4.042897e+07</td>\n",
       "      <td>4.042897e+07</td>\n",
       "      <td>4.042897e+07</td>\n",
       "      <td>4.042897e+07</td>\n",
       "      <td>4.042897e+07</td>\n",
       "      <td>4.042897e+07</td>\n",
       "      <td>4.042897e+07</td>\n",
       "      <td>4.042897e+07</td>\n",
       "    </tr>\n",
       "    <tr>\n",
       "      <th>mean</th>\n",
       "      <td>9.223017e+18</td>\n",
       "      <td>1.698056e-01</td>\n",
       "      <td>1.410256e+07</td>\n",
       "      <td>1.004968e+03</td>\n",
       "      <td>2.880146e-01</td>\n",
       "      <td>1.015305e+00</td>\n",
       "      <td>3.313150e-01</td>\n",
       "      <td>1.884181e+04</td>\n",
       "      <td>3.188831e+02</td>\n",
       "      <td>6.010201e+01</td>\n",
       "      <td>2.112601e+03</td>\n",
       "      <td>1.432499e+00</td>\n",
       "      <td>2.271444e+02</td>\n",
       "      <td>5.321685e+04</td>\n",
       "      <td>8.338229e+01</td>\n",
       "    </tr>\n",
       "    <tr>\n",
       "      <th>std</th>\n",
       "      <td>5.325443e+18</td>\n",
       "      <td>3.754620e-01</td>\n",
       "      <td>2.966837e+02</td>\n",
       "      <td>1.094586e+00</td>\n",
       "      <td>5.063820e-01</td>\n",
       "      <td>5.274336e-01</td>\n",
       "      <td>8.547935e-01</td>\n",
       "      <td>4.959457e+03</td>\n",
       "      <td>2.127250e+01</td>\n",
       "      <td>4.729538e+01</td>\n",
       "      <td>6.094124e+02</td>\n",
       "      <td>1.326227e+00</td>\n",
       "      <td>3.510221e+02</td>\n",
       "      <td>4.995682e+04</td>\n",
       "      <td>7.028996e+01</td>\n",
       "    </tr>\n",
       "    <tr>\n",
       "      <th>min</th>\n",
       "      <td>5.211594e+11</td>\n",
       "      <td>0.000000e+00</td>\n",
       "      <td>1.410210e+07</td>\n",
       "      <td>1.001000e+03</td>\n",
       "      <td>0.000000e+00</td>\n",
       "      <td>0.000000e+00</td>\n",
       "      <td>0.000000e+00</td>\n",
       "      <td>3.750000e+02</td>\n",
       "      <td>1.200000e+02</td>\n",
       "      <td>2.000000e+01</td>\n",
       "      <td>1.120000e+02</td>\n",
       "      <td>0.000000e+00</td>\n",
       "      <td>3.300000e+01</td>\n",
       "      <td>-1.000000e+00</td>\n",
       "      <td>1.000000e+00</td>\n",
       "    </tr>\n",
       "    <tr>\n",
       "      <th>25%</th>\n",
       "      <td>4.611181e+18</td>\n",
       "      <td>0.000000e+00</td>\n",
       "      <td>1.410230e+07</td>\n",
       "      <td>1.005000e+03</td>\n",
       "      <td>0.000000e+00</td>\n",
       "      <td>1.000000e+00</td>\n",
       "      <td>0.000000e+00</td>\n",
       "      <td>1.692000e+04</td>\n",
       "      <td>3.200000e+02</td>\n",
       "      <td>5.000000e+01</td>\n",
       "      <td>1.863000e+03</td>\n",
       "      <td>0.000000e+00</td>\n",
       "      <td>3.500000e+01</td>\n",
       "      <td>-1.000000e+00</td>\n",
       "      <td>2.300000e+01</td>\n",
       "    </tr>\n",
       "    <tr>\n",
       "      <th>50%</th>\n",
       "      <td>9.223224e+18</td>\n",
       "      <td>0.000000e+00</td>\n",
       "      <td>1.410260e+07</td>\n",
       "      <td>1.005000e+03</td>\n",
       "      <td>0.000000e+00</td>\n",
       "      <td>1.000000e+00</td>\n",
       "      <td>0.000000e+00</td>\n",
       "      <td>2.034600e+04</td>\n",
       "      <td>3.200000e+02</td>\n",
       "      <td>5.000000e+01</td>\n",
       "      <td>2.323000e+03</td>\n",
       "      <td>2.000000e+00</td>\n",
       "      <td>3.900000e+01</td>\n",
       "      <td>1.000480e+05</td>\n",
       "      <td>6.100000e+01</td>\n",
       "    </tr>\n",
       "    <tr>\n",
       "      <th>75%</th>\n",
       "      <td>1.383561e+19</td>\n",
       "      <td>0.000000e+00</td>\n",
       "      <td>1.410281e+07</td>\n",
       "      <td>1.005000e+03</td>\n",
       "      <td>1.000000e+00</td>\n",
       "      <td>1.000000e+00</td>\n",
       "      <td>0.000000e+00</td>\n",
       "      <td>2.189400e+04</td>\n",
       "      <td>3.200000e+02</td>\n",
       "      <td>5.000000e+01</td>\n",
       "      <td>2.526000e+03</td>\n",
       "      <td>3.000000e+00</td>\n",
       "      <td>1.710000e+02</td>\n",
       "      <td>1.000930e+05</td>\n",
       "      <td>1.010000e+02</td>\n",
       "    </tr>\n",
       "    <tr>\n",
       "      <th>max</th>\n",
       "      <td>1.844674e+19</td>\n",
       "      <td>1.000000e+00</td>\n",
       "      <td>1.410302e+07</td>\n",
       "      <td>1.012000e+03</td>\n",
       "      <td>7.000000e+00</td>\n",
       "      <td>5.000000e+00</td>\n",
       "      <td>5.000000e+00</td>\n",
       "      <td>2.405200e+04</td>\n",
       "      <td>1.024000e+03</td>\n",
       "      <td>1.024000e+03</td>\n",
       "      <td>2.758000e+03</td>\n",
       "      <td>3.000000e+00</td>\n",
       "      <td>1.959000e+03</td>\n",
       "      <td>1.002480e+05</td>\n",
       "      <td>2.550000e+02</td>\n",
       "    </tr>\n",
       "  </tbody>\n",
       "</table>\n",
       "</div>"
      ],
      "text/plain": [
       "                 id         click          hour            C1    banner_pos  \\\n",
       "count  4.042897e+07  4.042897e+07  4.042897e+07  4.042897e+07  4.042897e+07   \n",
       "mean   9.223017e+18  1.698056e-01  1.410256e+07  1.004968e+03  2.880146e-01   \n",
       "std    5.325443e+18  3.754620e-01  2.966837e+02  1.094586e+00  5.063820e-01   \n",
       "min    5.211594e+11  0.000000e+00  1.410210e+07  1.001000e+03  0.000000e+00   \n",
       "25%    4.611181e+18  0.000000e+00  1.410230e+07  1.005000e+03  0.000000e+00   \n",
       "50%    9.223224e+18  0.000000e+00  1.410260e+07  1.005000e+03  0.000000e+00   \n",
       "75%    1.383561e+19  0.000000e+00  1.410281e+07  1.005000e+03  1.000000e+00   \n",
       "max    1.844674e+19  1.000000e+00  1.410302e+07  1.012000e+03  7.000000e+00   \n",
       "\n",
       "        device_type  device_conn_type           C14           C15  \\\n",
       "count  4.042897e+07      4.042897e+07  4.042897e+07  4.042897e+07   \n",
       "mean   1.015305e+00      3.313150e-01  1.884181e+04  3.188831e+02   \n",
       "std    5.274336e-01      8.547935e-01  4.959457e+03  2.127250e+01   \n",
       "min    0.000000e+00      0.000000e+00  3.750000e+02  1.200000e+02   \n",
       "25%    1.000000e+00      0.000000e+00  1.692000e+04  3.200000e+02   \n",
       "50%    1.000000e+00      0.000000e+00  2.034600e+04  3.200000e+02   \n",
       "75%    1.000000e+00      0.000000e+00  2.189400e+04  3.200000e+02   \n",
       "max    5.000000e+00      5.000000e+00  2.405200e+04  1.024000e+03   \n",
       "\n",
       "                C16           C17           C18           C19           C20  \\\n",
       "count  4.042897e+07  4.042897e+07  4.042897e+07  4.042897e+07  4.042897e+07   \n",
       "mean   6.010201e+01  2.112601e+03  1.432499e+00  2.271444e+02  5.321685e+04   \n",
       "std    4.729538e+01  6.094124e+02  1.326227e+00  3.510221e+02  4.995682e+04   \n",
       "min    2.000000e+01  1.120000e+02  0.000000e+00  3.300000e+01 -1.000000e+00   \n",
       "25%    5.000000e+01  1.863000e+03  0.000000e+00  3.500000e+01 -1.000000e+00   \n",
       "50%    5.000000e+01  2.323000e+03  2.000000e+00  3.900000e+01  1.000480e+05   \n",
       "75%    5.000000e+01  2.526000e+03  3.000000e+00  1.710000e+02  1.000930e+05   \n",
       "max    1.024000e+03  2.758000e+03  3.000000e+00  1.959000e+03  1.002480e+05   \n",
       "\n",
       "                C21  \n",
       "count  4.042897e+07  \n",
       "mean   8.338229e+01  \n",
       "std    7.028996e+01  \n",
       "min    1.000000e+00  \n",
       "25%    2.300000e+01  \n",
       "50%    6.100000e+01  \n",
       "75%    1.010000e+02  \n",
       "max    2.550000e+02  "
      ]
     },
     "execution_count": 8,
     "metadata": {},
     "output_type": "execute_result"
    }
   ],
   "source": [
    "train.describe()"
   ]
  },
  {
   "cell_type": "code",
   "execution_count": 9,
   "metadata": {},
   "outputs": [
    {
     "data": {
      "text/plain": [
       "<matplotlib.axes._subplots.AxesSubplot at 0x1a0042561c8>"
      ]
     },
     "execution_count": 9,
     "metadata": {},
     "output_type": "execute_result"
    },
    {
     "data": {
      "image/png": "[encoded data removed]",
      "text/plain": [
       "<Figure size 432x288 with 1 Axes>"
      ]
     },
     "metadata": {},
     "output_type": "display_data"
    }
   ],
   "source": [
    "sns.countplot(train.click)"
   ]
  },
  {
   "cell_type": "code",
   "execution_count": 25,
   "metadata": {},
   "outputs": [
    {
     "data": {
      "text/plain": [
       "0    33563901\n",
       "1     6865066\n",
       "Name: click, dtype: int64"
      ]
     },
     "execution_count": 25,
     "metadata": {},
     "output_type": "execute_result"
    }
   ],
   "source": [
    "train.click.value_counts()"
   ]
  },
  {
   "cell_type": "code",
   "execution_count": 15,
   "metadata": {},
   "outputs": [
    {
     "data": {
      "text/plain": [
       "<matplotlib.axes._subplots.AxesSubplot at 0x1a0046f2c88>"
      ]
     },
     "execution_count": 15,
     "metadata": {},
     "output_type": "execute_result"
    },
    {
     "data": {
      "image/png": "[encoded data removed]",
      "text/plain": [
       "<Figure size 432x288 with 1 Axes>"
      ]
     },
     "metadata": {},
     "output_type": "display_data"
    }
   ],
   "source": [
    "sns.countplot(train.banner_pos)"
   ]
  },
  {
   "cell_type": "code",
   "execution_count": 26,
   "metadata": {},
   "outputs": [
    {
     "data": {
      "text/plain": [
       "0    29109590\n",
       "1    11247282\n",
       "7       43577\n",
       "2       13001\n",
       "4        7704\n",
       "5        5778\n",
       "3        2035\n",
       "Name: banner_pos, dtype: int64"
      ]
     },
     "execution_count": 26,
     "metadata": {},
     "output_type": "execute_result"
    }
   ],
   "source": [
    "train.banner_pos.value_counts()"
   ]
  },
  {
   "cell_type": "code",
   "execution_count": 16,
   "metadata": {},
   "outputs": [
    {
     "data": {
      "text/plain": [
       "<matplotlib.axes._subplots.AxesSubplot at 0x1a00548cd08>"
      ]
     },
     "execution_count": 16,
     "metadata": {},
     "output_type": "execute_result"
    },
    {
     "data": {
      "image/png": "[encoded data removed]",
      "text/plain": [
       "<Figure size 432x288 with 1 Axes>"
      ]
     },
     "metadata": {},
     "output_type": "display_data"
    }
   ],
   "source": [
    "sns.countplot(train.site_category)"
   ]
  },
  {
   "cell_type": "code",
   "execution_count": 27,
   "metadata": {},
   "outputs": [
    {
     "data": {
      "text/plain": [
       "50e219e0    16537234\n",
       "f028772b    12657073\n",
       "28905ebd     7377208\n",
       "3e814130     3050306\n",
       "f66779e6      252451\n",
       "75fa27f6      160985\n",
       "335d28a8      136463\n",
       "76b2941d      104754\n",
       "c0dd3be3       42090\n",
       "72722551       28216\n",
       "dedf689d       24500\n",
       "70fb0e29       24224\n",
       "0569f928       17106\n",
       "8fd0aea4        7482\n",
       "a818d37a        3230\n",
       "42a36e14        2515\n",
       "e787de0e        1209\n",
       "bcf865d9        1045\n",
       "5378d028         483\n",
       "9ccfa2ea         318\n",
       "c706e647          28\n",
       "da34532e          23\n",
       "74073276          14\n",
       "110ab22d           6\n",
       "6432c423           2\n",
       "a72a0145           2\n",
       "Name: site_category, dtype: int64"
      ]
     },
     "execution_count": 27,
     "metadata": {},
     "output_type": "execute_result"
    }
   ],
   "source": [
    "train.site_category.value_counts()"
   ]
  },
  {
   "cell_type": "code",
   "execution_count": 17,
   "metadata": {},
   "outputs": [
    {
     "data": {
      "text/plain": [
       "<matplotlib.axes._subplots.AxesSubplot at 0x1a0054b5188>"
      ]
     },
     "execution_count": 17,
     "metadata": {},
     "output_type": "execute_result"
    },
    {
     "data": {
      "image/png": "[encoded data removed]",
      "text/plain": [
       "<Figure size 432x288 with 1 Axes>"
      ]
     },
     "metadata": {},
     "output_type": "display_data"
    }
   ],
   "source": [
    "sns.countplot(train.app_category)"
   ]
  },
  {
   "cell_type": "code",
   "execution_count": 28,
   "metadata": {},
   "outputs": [
    {
     "data": {
      "text/plain": [
       "07d7df22    26165592\n",
       "0f2161f8     9561058\n",
       "cef3e649     1731545\n",
       "8ded1f7a     1467257\n",
       "f95efa07     1141673\n",
       "d1327cf5      123233\n",
       "09481d60       54886\n",
       "dc97ec06       54644\n",
       "75d80bbe       40108\n",
       "fc6fa53d       23663\n",
       "4ce2e9fc       20762\n",
       "879c24eb       12785\n",
       "a3c42688       11121\n",
       "4681bb9d        6291\n",
       "0f9a328c        5584\n",
       "a86a3e89        2497\n",
       "2281a340        2243\n",
       "8df2e842        1679\n",
       "79f0b860         605\n",
       "0bfbc358         425\n",
       "a7fd01ec         362\n",
       "7113d72a         304\n",
       "2fc4f2aa         234\n",
       "18b1e0be         212\n",
       "5326cf99         133\n",
       "0d82db25          25\n",
       "4b7ade46          16\n",
       "bf8ac856           9\n",
       "bd41f328           6\n",
       "71af18ce           5\n",
       "86c1a5a3           3\n",
       "6fea3693           2\n",
       "ef03ae90           2\n",
       "52de74cf           1\n",
       "cba0e20d           1\n",
       "f395a87f           1\n",
       "Name: app_category, dtype: int64"
      ]
     },
     "execution_count": 28,
     "metadata": {},
     "output_type": "execute_result"
    }
   ],
   "source": [
    "train.app_category.value_counts()"
   ]
  },
  {
   "cell_type": "code",
   "execution_count": 23,
   "metadata": {},
   "outputs": [
    {
     "data": {
      "text/plain": [
       "<matplotlib.axes._subplots.AxesSubplot at 0x1a00564c548>"
      ]
     },
     "execution_count": 23,
     "metadata": {},
     "output_type": "execute_result"
    },
    {
     "data": {
      "image/png": "[encoded data removed]",
      "text/plain": [
       "<Figure size 432x288 with 1 Axes>"
      ]
     },
     "metadata": {},
     "output_type": "display_data"
    }
   ],
   "source": [
    "sns.countplot(train.device_type)"
   ]
  },
  {
   "cell_type": "code",
   "execution_count": 39,
   "metadata": {},
   "outputs": [
    {
     "data": {
      "text/plain": [
       "1    37304667\n",
       "0     2220812\n",
       "4      774272\n",
       "5      129185\n",
       "2          31\n",
       "Name: device_type, dtype: int64"
      ]
     },
     "execution_count": 39,
     "metadata": {},
     "output_type": "execute_result"
    }
   ],
   "source": [
    "train.device_type.value_counts()"
   ]
  },
  {
   "cell_type": "code",
   "execution_count": 24,
   "metadata": {},
   "outputs": [
    {
     "data": {
      "text/plain": [
       "<matplotlib.axes._subplots.AxesSubplot at 0x1a005a19348>"
      ]
     },
     "execution_count": 24,
     "metadata": {},
     "output_type": "execute_result"
    },
    {
     "data": {
      "image/png": "[encoded data removed]",
      "text/plain": [
       "<Figure size 432x288 with 1 Axes>"
      ]
     },
     "metadata": {},
     "output_type": "display_data"
    }
   ],
   "source": [
    "sns.countplot(x='device_type', hue='click', data=train)"
   ]
  },
  {
   "cell_type": "code",
   "execution_count": 38,
   "metadata": {},
   "outputs": [
    {
     "data": {
      "text/plain": [
       "device_type  click\n",
       "0            0         1752817\n",
       "             1          467995\n",
       "1            0        30993621\n",
       "             1         6311046\n",
       "2            0              29\n",
       "             1               2\n",
       "4            0          700372\n",
       "             1           73900\n",
       "5            0          117062\n",
       "             1           12123\n",
       "dtype: int64"
      ]
     },
     "execution_count": 38,
     "metadata": {},
     "output_type": "execute_result"
    }
   ],
   "source": [
    "train.groupby(['device_type', 'click']).size()"
   ]
  },
  {
   "cell_type": "code",
   "execution_count": null,
   "metadata": {},
   "outputs": [],
   "source": []
  }
 ],
 "metadata": {
  "kernelspec": {
   "display_name": "Python 3",
   "language": "python",
   "name": "python3"
  },
  "language_info": {
   "codemirror_mode": {
    "name": "ipython",
    "version": 3
   },
   "file_extension": ".py",
   "mimetype": "text/x-python",
   "name": "python",
   "nbconvert_exporter": "python",
   "pygments_lexer": "ipython3",
   "version": "3.7.6"
  }
 },
 "nbformat": 4,
 "nbformat_minor": 4
}
